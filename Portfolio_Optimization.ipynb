{
 "cells": [
  {
   "cell_type": "markdown",
   "metadata": {
    "id": "EjoqM7xSE3pO"
   },
   "source": [
    "# **Portfolio Optimization using Python and Efficient Frontier**\n"
   ]
  },
  {
   "cell_type": "code",
   "execution_count": 2,
   "metadata": {
    "colab": {
     "base_uri": "https://localhost:8080/"
    },
    "id": "m-m47UXmVRAd",
    "outputId": "9fcd557c-c538-4ebe-ad69-60837b047ff1"
   },
   "outputs": [
    {
     "name": "stdout",
     "output_type": "stream",
     "text": [
      "Collecting yfinance\n",
      "  Downloading https://files.pythonhosted.org/packages/79/bd/d64719da8f5367f4d8b16e83507fa1d90942f433f748a4cf3ed7aa515d14/yfinance-0.1.63.tar.gz\n",
      "Requirement already satisfied: pandas>=0.24 in /usr/local/lib/python3.7/dist-packages (from yfinance) (1.1.5)\n",
      "Requirement already satisfied: numpy>=1.15 in /usr/local/lib/python3.7/dist-packages (from yfinance) (1.19.5)\n",
      "Requirement already satisfied: requests>=2.20 in /usr/local/lib/python3.7/dist-packages (from yfinance) (2.23.0)\n",
      "Requirement already satisfied: multitasking>=0.0.7 in /usr/local/lib/python3.7/dist-packages (from yfinance) (0.0.9)\n",
      "Collecting lxml>=4.5.1\n",
      "\u001b[?25l  Downloading https://files.pythonhosted.org/packages/30/c0/d0526314971fc661b083ab135747dc68446a3022686da8c16d25fcf6ef07/lxml-4.6.3-cp37-cp37m-manylinux2014_x86_64.whl (6.3MB)\n",
      "\u001b[K     |████████████████████████████████| 6.3MB 29.9MB/s \n",
      "\u001b[?25hRequirement already satisfied: python-dateutil>=2.7.3 in /usr/local/lib/python3.7/dist-packages (from pandas>=0.24->yfinance) (2.8.1)\n",
      "Requirement already satisfied: pytz>=2017.2 in /usr/local/lib/python3.7/dist-packages (from pandas>=0.24->yfinance) (2018.9)\n",
      "Requirement already satisfied: idna<3,>=2.5 in /usr/local/lib/python3.7/dist-packages (from requests>=2.20->yfinance) (2.10)\n",
      "Requirement already satisfied: chardet<4,>=3.0.2 in /usr/local/lib/python3.7/dist-packages (from requests>=2.20->yfinance) (3.0.4)\n",
      "Requirement already satisfied: urllib3!=1.25.0,!=1.25.1,<1.26,>=1.21.1 in /usr/local/lib/python3.7/dist-packages (from requests>=2.20->yfinance) (1.24.3)\n",
      "Requirement already satisfied: certifi>=2017.4.17 in /usr/local/lib/python3.7/dist-packages (from requests>=2.20->yfinance) (2021.5.30)\n",
      "Requirement already satisfied: six>=1.5 in /usr/local/lib/python3.7/dist-packages (from python-dateutil>=2.7.3->pandas>=0.24->yfinance) (1.15.0)\n",
      "Building wheels for collected packages: yfinance\n",
      "  Building wheel for yfinance (setup.py) ... \u001b[?25l\u001b[?25hdone\n",
      "  Created wheel for yfinance: filename=yfinance-0.1.63-py2.py3-none-any.whl size=23919 sha256=e4216f4afc3e965947b51e1c69e599719486c95d7a9123c4a0e48292663ba18b\n",
      "  Stored in directory: /root/.cache/pip/wheels/fe/a0/79/b73d4a0c535b421b88fc7b393936b371fabbfeaf979eca4050\n",
      "Successfully built yfinance\n",
      "Installing collected packages: lxml, yfinance\n",
      "  Found existing installation: lxml 4.2.6\n",
      "    Uninstalling lxml-4.2.6:\n",
      "      Successfully uninstalled lxml-4.2.6\n",
      "Successfully installed lxml-4.6.3 yfinance-0.1.63\n"
     ]
    }
   ],
   "source": [
    "pip install yfinance"
   ]
  },
  {
   "cell_type": "code",
   "execution_count": 3,
   "metadata": {
    "id": "ArzZ3mITorMM"
   },
   "outputs": [],
   "source": [
    "import yfinance as yf\n",
    "import pandas as pd\n",
    "import numpy as np\n",
    "import matplotlib.pyplot as plt\n",
    "from datetime import datetime"
   ]
  },
  {
   "cell_type": "code",
   "execution_count": 4,
   "metadata": {
    "id": "V9xbyuZ94XFw"
   },
   "outputs": [],
   "source": [
    "plt.style.use('fivethirtyeight')"
   ]
  },
  {
   "cell_type": "code",
   "execution_count": 5,
   "metadata": {
    "id": "VK1O0beywWe1"
   },
   "outputs": [],
   "source": [
    "# Setting the starting date\n",
    "stock_start = '2011-01-01'\n",
    "# Setting today's date\n",
    "today = datetime.today().strftime('%Y-%m-%d')"
   ]
  },
  {
   "cell_type": "code",
   "execution_count": 7,
   "metadata": {
    "colab": {
     "base_uri": "https://localhost:8080/"
    },
    "id": "YaVSsSkHxwdO",
    "outputId": "984115f5-59ba-4dc3-faa6-5e51a4c1531a"
   },
   "outputs": [
    {
     "name": "stdout",
     "output_type": "stream",
     "text": [
      "INFY.NS\n",
      "RELIANCE.NS\n",
      "HDFCBANK.NS\n",
      "TCS.NS\n"
     ]
    }
   ],
   "source": [
    "#Generating the stock list\n",
    "stock_list = []\n",
    "for i in range(0,4):\n",
    "  stock_sym = str(input())\n",
    "  stock_list.append(stock_sym)"
   ]
  },
  {
   "cell_type": "code",
   "execution_count": null,
   "metadata": {
    "id": "cd94ORCJy3uZ"
   },
   "outputs": [],
   "source": [
    "#Downloading stock data for the input companies\n",
    "tickers = stock_list\n",
    "stock_data = yf.download(tickers, start=stock_start, end=today)\n",
    "stock_data"
   ]
  },
  {
   "cell_type": "code",
   "execution_count": 9,
   "metadata": {
    "colab": {
     "base_uri": "https://localhost:8080/",
     "height": 477
    },
    "id": "cLjE8fIv0pSu",
    "outputId": "8586de75-3a2a-4b51-b00b-f6312c9935a1"
   },
   "outputs": [
    {
     "data": {
      "text/html": [
       "<div>\n",
       "<style scoped>\n",
       "    .dataframe tbody tr th:only-of-type {\n",
       "        vertical-align: middle;\n",
       "    }\n",
       "\n",
       "    .dataframe tbody tr th {\n",
       "        vertical-align: top;\n",
       "    }\n",
       "\n",
       "    .dataframe thead tr th {\n",
       "        text-align: left;\n",
       "    }\n",
       "\n",
       "    .dataframe thead tr:last-of-type th {\n",
       "        text-align: right;\n",
       "    }\n",
       "</style>\n",
       "<table border=\"1\" class=\"dataframe\">\n",
       "  <thead>\n",
       "    <tr>\n",
       "      <th></th>\n",
       "      <th colspan=\"4\" halign=\"left\">Adj Close</th>\n",
       "    </tr>\n",
       "    <tr>\n",
       "      <th></th>\n",
       "      <th>HDFCBANK.NS</th>\n",
       "      <th>INFY.NS</th>\n",
       "      <th>RELIANCE.NS</th>\n",
       "      <th>TCS.NS</th>\n",
       "    </tr>\n",
       "    <tr>\n",
       "      <th>Date</th>\n",
       "      <th></th>\n",
       "      <th></th>\n",
       "      <th></th>\n",
       "      <th></th>\n",
       "    </tr>\n",
       "  </thead>\n",
       "  <tbody>\n",
       "    <tr>\n",
       "      <th>2011-01-03</th>\n",
       "      <td>222.243774</td>\n",
       "      <td>342.154602</td>\n",
       "      <td>478.549133</td>\n",
       "      <td>471.944580</td>\n",
       "    </tr>\n",
       "    <tr>\n",
       "      <th>2011-01-04</th>\n",
       "      <td>218.064789</td>\n",
       "      <td>344.439941</td>\n",
       "      <td>488.296112</td>\n",
       "      <td>466.524323</td>\n",
       "    </tr>\n",
       "    <tr>\n",
       "      <th>2011-01-05</th>\n",
       "      <td>214.592346</td>\n",
       "      <td>342.278259</td>\n",
       "      <td>487.706757</td>\n",
       "      <td>472.311340</td>\n",
       "    </tr>\n",
       "    <tr>\n",
       "      <th>2011-01-06</th>\n",
       "      <td>216.409897</td>\n",
       "      <td>344.113434</td>\n",
       "      <td>492.149414</td>\n",
       "      <td>477.507416</td>\n",
       "    </tr>\n",
       "    <tr>\n",
       "      <th>2011-01-07</th>\n",
       "      <td>210.989792</td>\n",
       "      <td>333.487762</td>\n",
       "      <td>482.991943</td>\n",
       "      <td>465.668610</td>\n",
       "    </tr>\n",
       "    <tr>\n",
       "      <th>...</th>\n",
       "      <td>...</td>\n",
       "      <td>...</td>\n",
       "      <td>...</td>\n",
       "      <td>...</td>\n",
       "    </tr>\n",
       "    <tr>\n",
       "      <th>2021-07-12</th>\n",
       "      <td>1487.000000</td>\n",
       "      <td>1547.849976</td>\n",
       "      <td>2084.100098</td>\n",
       "      <td>3186.146729</td>\n",
       "    </tr>\n",
       "    <tr>\n",
       "      <th>2021-07-13</th>\n",
       "      <td>1501.849976</td>\n",
       "      <td>1544.949951</td>\n",
       "      <td>2099.699951</td>\n",
       "      <td>3180.608887</td>\n",
       "    </tr>\n",
       "    <tr>\n",
       "      <th>2021-07-14</th>\n",
       "      <td>1499.150024</td>\n",
       "      <td>1576.900024</td>\n",
       "      <td>2086.000000</td>\n",
       "      <td>3207.550049</td>\n",
       "    </tr>\n",
       "    <tr>\n",
       "      <th>2021-07-15</th>\n",
       "      <td>1520.699951</td>\n",
       "      <td>1580.800049</td>\n",
       "      <td>2082.350098</td>\n",
       "      <td>3202.949951</td>\n",
       "    </tr>\n",
       "    <tr>\n",
       "      <th>2021-07-16</th>\n",
       "      <td>1522.349976</td>\n",
       "      <td>1555.449951</td>\n",
       "      <td>2112.399902</td>\n",
       "      <td>3194.800049</td>\n",
       "    </tr>\n",
       "  </tbody>\n",
       "</table>\n",
       "<p>2595 rows × 4 columns</p>\n",
       "</div>"
      ],
      "text/plain": [
       "              Adj Close                                       \n",
       "            HDFCBANK.NS      INFY.NS  RELIANCE.NS       TCS.NS\n",
       "Date                                                          \n",
       "2011-01-03   222.243774   342.154602   478.549133   471.944580\n",
       "2011-01-04   218.064789   344.439941   488.296112   466.524323\n",
       "2011-01-05   214.592346   342.278259   487.706757   472.311340\n",
       "2011-01-06   216.409897   344.113434   492.149414   477.507416\n",
       "2011-01-07   210.989792   333.487762   482.991943   465.668610\n",
       "...                 ...          ...          ...          ...\n",
       "2021-07-12  1487.000000  1547.849976  2084.100098  3186.146729\n",
       "2021-07-13  1501.849976  1544.949951  2099.699951  3180.608887\n",
       "2021-07-14  1499.150024  1576.900024  2086.000000  3207.550049\n",
       "2021-07-15  1520.699951  1580.800049  2082.350098  3202.949951\n",
       "2021-07-16  1522.349976  1555.449951  2112.399902  3194.800049\n",
       "\n",
       "[2595 rows x 4 columns]"
      ]
     },
     "execution_count": 9,
     "metadata": {
      "tags": []
     },
     "output_type": "execute_result"
    }
   ],
   "source": [
    "#Keeping only the Adj Close column\n",
    "stock_data = stock_data.drop(['Close','High','Open','Volume','Low'],axis=1)\n",
    "stock_data"
   ]
  },
  {
   "cell_type": "code",
   "execution_count": 10,
   "metadata": {
    "id": "Lnhk60qU2Qiv"
   },
   "outputs": [],
   "source": [
    "#Assigning equal weights to the stocks\n",
    "weights = np.array([0.25, 0.25, 0.25, 0.25])"
   ]
  },
  {
   "cell_type": "code",
   "execution_count": 11,
   "metadata": {
    "colab": {
     "base_uri": "https://localhost:8080/",
     "height": 325
    },
    "id": "J2OeD1b112fW",
    "outputId": "8b336550-2663-436c-94fe-3d232635529c"
   },
   "outputs": [
    {
     "data": {
      "image/png": "[encoded data removed]",
      "text/plain": [
       "<Figure size 432x288 with 1 Axes>"
      ]
     },
     "metadata": {
      "tags": []
     },
     "output_type": "display_data"
    }
   ],
   "source": [
    "#Visually showing the portfolio \n",
    "title = 'Portfolio Adj. Close Price History'\n",
    "\n",
    "#Get the stocks\n",
    "my_stocks = stock_data\n",
    "\n",
    "#Plotting the graph\n",
    "for c in my_stocks.columns.values:\n",
    "  plt.plot(my_stocks[c], label=c)\n",
    "\n",
    "plt.title(title)\n",
    "plt.xlabel('Date')\n",
    "plt.ylabel('Adj. Price (INR)')\n",
    "plt.legend(my_stocks.columns.values, loc='upper left')\n",
    "plt.show()"
   ]
  },
  {
   "cell_type": "code",
   "execution_count": 12,
   "metadata": {
    "colab": {
     "base_uri": "https://localhost:8080/",
     "height": 477
    },
    "id": "65tG9w4p4OsJ",
    "outputId": "41b29c93-a36e-4edd-ebab-c44b1e3be7cd"
   },
   "outputs": [
    {
     "data": {
      "text/html": [
       "<div>\n",
       "<style scoped>\n",
       "    .dataframe tbody tr th:only-of-type {\n",
       "        vertical-align: middle;\n",
       "    }\n",
       "\n",
       "    .dataframe tbody tr th {\n",
       "        vertical-align: top;\n",
       "    }\n",
       "\n",
       "    .dataframe thead tr th {\n",
       "        text-align: left;\n",
       "    }\n",
       "\n",
       "    .dataframe thead tr:last-of-type th {\n",
       "        text-align: right;\n",
       "    }\n",
       "</style>\n",
       "<table border=\"1\" class=\"dataframe\">\n",
       "  <thead>\n",
       "    <tr>\n",
       "      <th></th>\n",
       "      <th colspan=\"4\" halign=\"left\">Adj Close</th>\n",
       "    </tr>\n",
       "    <tr>\n",
       "      <th></th>\n",
       "      <th>HDFCBANK.NS</th>\n",
       "      <th>INFY.NS</th>\n",
       "      <th>RELIANCE.NS</th>\n",
       "      <th>TCS.NS</th>\n",
       "    </tr>\n",
       "    <tr>\n",
       "      <th>Date</th>\n",
       "      <th></th>\n",
       "      <th></th>\n",
       "      <th></th>\n",
       "      <th></th>\n",
       "    </tr>\n",
       "  </thead>\n",
       "  <tbody>\n",
       "    <tr>\n",
       "      <th>2011-01-03</th>\n",
       "      <td>NaN</td>\n",
       "      <td>NaN</td>\n",
       "      <td>NaN</td>\n",
       "      <td>NaN</td>\n",
       "    </tr>\n",
       "    <tr>\n",
       "      <th>2011-01-04</th>\n",
       "      <td>-0.018804</td>\n",
       "      <td>0.006679</td>\n",
       "      <td>0.020368</td>\n",
       "      <td>-0.011485</td>\n",
       "    </tr>\n",
       "    <tr>\n",
       "      <th>2011-01-05</th>\n",
       "      <td>-0.015924</td>\n",
       "      <td>-0.006276</td>\n",
       "      <td>-0.001207</td>\n",
       "      <td>0.012405</td>\n",
       "    </tr>\n",
       "    <tr>\n",
       "      <th>2011-01-06</th>\n",
       "      <td>0.008470</td>\n",
       "      <td>0.005362</td>\n",
       "      <td>0.009109</td>\n",
       "      <td>0.011001</td>\n",
       "    </tr>\n",
       "    <tr>\n",
       "      <th>2011-01-07</th>\n",
       "      <td>-0.025046</td>\n",
       "      <td>-0.030878</td>\n",
       "      <td>-0.018607</td>\n",
       "      <td>-0.024793</td>\n",
       "    </tr>\n",
       "    <tr>\n",
       "      <th>...</th>\n",
       "      <td>...</td>\n",
       "      <td>...</td>\n",
       "      <td>...</td>\n",
       "      <td>...</td>\n",
       "    </tr>\n",
       "    <tr>\n",
       "      <th>2021-07-12</th>\n",
       "      <td>-0.009987</td>\n",
       "      <td>-0.009630</td>\n",
       "      <td>0.006228</td>\n",
       "      <td>-0.004691</td>\n",
       "    </tr>\n",
       "    <tr>\n",
       "      <th>2021-07-13</th>\n",
       "      <td>0.009987</td>\n",
       "      <td>-0.001874</td>\n",
       "      <td>0.007485</td>\n",
       "      <td>-0.001738</td>\n",
       "    </tr>\n",
       "    <tr>\n",
       "      <th>2021-07-14</th>\n",
       "      <td>-0.001798</td>\n",
       "      <td>0.020680</td>\n",
       "      <td>-0.006525</td>\n",
       "      <td>0.008470</td>\n",
       "    </tr>\n",
       "    <tr>\n",
       "      <th>2021-07-15</th>\n",
       "      <td>0.014375</td>\n",
       "      <td>0.002473</td>\n",
       "      <td>-0.001750</td>\n",
       "      <td>-0.001434</td>\n",
       "    </tr>\n",
       "    <tr>\n",
       "      <th>2021-07-16</th>\n",
       "      <td>0.001085</td>\n",
       "      <td>-0.016036</td>\n",
       "      <td>0.014431</td>\n",
       "      <td>-0.002544</td>\n",
       "    </tr>\n",
       "  </tbody>\n",
       "</table>\n",
       "<p>2595 rows × 4 columns</p>\n",
       "</div>"
      ],
      "text/plain": [
       "             Adj Close                                \n",
       "           HDFCBANK.NS   INFY.NS RELIANCE.NS    TCS.NS\n",
       "Date                                                  \n",
       "2011-01-03         NaN       NaN         NaN       NaN\n",
       "2011-01-04   -0.018804  0.006679    0.020368 -0.011485\n",
       "2011-01-05   -0.015924 -0.006276   -0.001207  0.012405\n",
       "2011-01-06    0.008470  0.005362    0.009109  0.011001\n",
       "2011-01-07   -0.025046 -0.030878   -0.018607 -0.024793\n",
       "...                ...       ...         ...       ...\n",
       "2021-07-12   -0.009987 -0.009630    0.006228 -0.004691\n",
       "2021-07-13    0.009987 -0.001874    0.007485 -0.001738\n",
       "2021-07-14   -0.001798  0.020680   -0.006525  0.008470\n",
       "2021-07-15    0.014375  0.002473   -0.001750 -0.001434\n",
       "2021-07-16    0.001085 -0.016036    0.014431 -0.002544\n",
       "\n",
       "[2595 rows x 4 columns]"
      ]
     },
     "execution_count": 12,
     "metadata": {
      "tags": []
     },
     "output_type": "execute_result"
    }
   ],
   "source": [
    "#Showing the daily simple returns as percentage change\n",
    "df = stock_data\n",
    "returns = df.pct_change()\n",
    "returns"
   ]
  },
  {
   "cell_type": "code",
   "execution_count": 13,
   "metadata": {
    "colab": {
     "base_uri": "https://localhost:8080/",
     "height": 202
    },
    "id": "SxCwYsCs4upr",
    "outputId": "0f3a0ccc-296a-497f-e9f3-5364cf9c1150"
   },
   "outputs": [
    {
     "data": {
      "text/html": [
       "<div>\n",
       "<style scoped>\n",
       "    .dataframe tbody tr th:only-of-type {\n",
       "        vertical-align: middle;\n",
       "    }\n",
       "\n",
       "    .dataframe tbody tr th {\n",
       "        vertical-align: top;\n",
       "    }\n",
       "\n",
       "    .dataframe thead tr th {\n",
       "        text-align: left;\n",
       "    }\n",
       "</style>\n",
       "<table border=\"1\" class=\"dataframe\">\n",
       "  <thead>\n",
       "    <tr>\n",
       "      <th></th>\n",
       "      <th></th>\n",
       "      <th colspan=\"4\" halign=\"left\">Adj Close</th>\n",
       "    </tr>\n",
       "    <tr>\n",
       "      <th></th>\n",
       "      <th></th>\n",
       "      <th>HDFCBANK.NS</th>\n",
       "      <th>INFY.NS</th>\n",
       "      <th>RELIANCE.NS</th>\n",
       "      <th>TCS.NS</th>\n",
       "    </tr>\n",
       "  </thead>\n",
       "  <tbody>\n",
       "    <tr>\n",
       "      <th rowspan=\"4\" valign=\"top\">Adj Close</th>\n",
       "      <th>HDFCBANK.NS</th>\n",
       "      <td>0.057158</td>\n",
       "      <td>0.016328</td>\n",
       "      <td>0.030330</td>\n",
       "      <td>0.014778</td>\n",
       "    </tr>\n",
       "    <tr>\n",
       "      <th>INFY.NS</th>\n",
       "      <td>0.016328</td>\n",
       "      <td>0.081121</td>\n",
       "      <td>0.018421</td>\n",
       "      <td>0.037765</td>\n",
       "    </tr>\n",
       "    <tr>\n",
       "      <th>RELIANCE.NS</th>\n",
       "      <td>0.030330</td>\n",
       "      <td>0.018421</td>\n",
       "      <td>0.083851</td>\n",
       "      <td>0.019072</td>\n",
       "    </tr>\n",
       "    <tr>\n",
       "      <th>TCS.NS</th>\n",
       "      <td>0.014778</td>\n",
       "      <td>0.037765</td>\n",
       "      <td>0.019072</td>\n",
       "      <td>0.066714</td>\n",
       "    </tr>\n",
       "  </tbody>\n",
       "</table>\n",
       "</div>"
      ],
      "text/plain": [
       "                        Adj Close                                \n",
       "                      HDFCBANK.NS   INFY.NS RELIANCE.NS    TCS.NS\n",
       "Adj Close HDFCBANK.NS    0.057158  0.016328    0.030330  0.014778\n",
       "          INFY.NS        0.016328  0.081121    0.018421  0.037765\n",
       "          RELIANCE.NS    0.030330  0.018421    0.083851  0.019072\n",
       "          TCS.NS         0.014778  0.037765    0.019072  0.066714"
      ]
     },
     "execution_count": 13,
     "metadata": {
      "tags": []
     },
     "output_type": "execute_result"
    }
   ],
   "source": [
    "#Creating the annualized co-variance matrix\n",
    "cov_matrix_annual = returns.cov() * 252\n",
    "cov_matrix_annual"
   ]
  },
  {
   "cell_type": "code",
   "execution_count": 14,
   "metadata": {
    "colab": {
     "base_uri": "https://localhost:8080/"
    },
    "id": "0wmCkTAM5ENM",
    "outputId": "b9dfe568-9011-4804-8c27-a116d0b79bb9"
   },
   "outputs": [
    {
     "name": "stdout",
     "output_type": "stream",
     "text": [
      "Variance =  0.03513958173159006\n",
      "Volatality =  0.18745554601448863\n"
     ]
    }
   ],
   "source": [
    "#Calculating the variance and standard deviation of portfolio\n",
    "#Standard deviation is also the volatality of portfolio\n",
    "\n",
    "p_var = np.dot(weights.T, np.dot(cov_matrix_annual,weights))\n",
    "p_vol = np.sqrt(p_var)\n",
    "\n",
    "print(\"Variance = \",p_var)\n",
    "print(\"Volatality = \",p_vol)"
   ]
  },
  {
   "cell_type": "code",
   "execution_count": 15,
   "metadata": {
    "colab": {
     "base_uri": "https://localhost:8080/"
    },
    "id": "D7K17Mz75Q-n",
    "outputId": "611124d3-e73f-4a8c-ff9f-ee24b26de582"
   },
   "outputs": [
    {
     "data": {
      "text/plain": [
       "0.20223368728284374"
      ]
     },
     "execution_count": 15,
     "metadata": {
      "tags": []
     },
     "output_type": "execute_result"
    }
   ],
   "source": [
    "#Calculating the annual portfolio returns\n",
    "p_annualReturns = np.sum(returns.mean() * weights) * 252\n",
    "p_annualReturns"
   ]
  },
  {
   "cell_type": "code",
   "execution_count": 16,
   "metadata": {
    "colab": {
     "base_uri": "https://localhost:8080/"
    },
    "id": "-tHrKoJZ6Ecj",
    "outputId": "c667f206-f560-470f-adeb-8116dc06d730"
   },
   "outputs": [
    {
     "name": "stdout",
     "output_type": "stream",
     "text": [
      "Expected Annual Returns:  20.0%\n",
      "Annual Volatality:  19.0%\n",
      "Portfolio Variance:  4.0%\n"
     ]
    }
   ],
   "source": [
    "#Showing the expected annual returns, risk, and variance\n",
    "percent_var= str(round(p_var,2)*100)+ \"%\"\n",
    "percent_vol= str(round(p_vol,2)*100)+ \"%\"\n",
    "percent_ret= str(round(p_annualReturns,2)*100)+ \"%\"\n",
    "\n",
    "print('Expected Annual Returns: ',percent_ret)\n",
    "print('Annual Volatality: ',percent_vol)\n",
    "print('Portfolio Variance: ',percent_var)"
   ]
  },
  {
   "cell_type": "code",
   "execution_count": null,
   "metadata": {
    "id": "vOVvkamr6xE5"
   },
   "outputs": [],
   "source": [
    "# add explanation"
   ]
  },
  {
   "cell_type": "code",
   "execution_count": 17,
   "metadata": {
    "colab": {
     "base_uri": "https://localhost:8080/"
    },
    "id": "tiR2sctY7PER",
    "outputId": "e5992dd9-0645-4430-b189-2db84876369e"
   },
   "outputs": [
    {
     "name": "stdout",
     "output_type": "stream",
     "text": [
      "Collecting PyPortfolioOpt\n",
      "\u001b[?25l  Downloading https://files.pythonhosted.org/packages/12/dd/bbe51f36f323c4eee59ec94638b24de1daeda9537403c363cbfab8cd1d29/PyPortfolioOpt-1.4.2-py3-none-any.whl (60kB)\n",
      "\r",
      "\u001b[K     |█████▍                          | 10kB 15.6MB/s eta 0:00:01\r",
      "\u001b[K     |██████████▉                     | 20kB 19.5MB/s eta 0:00:01\r",
      "\u001b[K     |████████████████▎               | 30kB 22.7MB/s eta 0:00:01\r",
      "\u001b[K     |█████████████████████▋          | 40kB 25.3MB/s eta 0:00:01\r",
      "\u001b[K     |███████████████████████████     | 51kB 27.7MB/s eta 0:00:01\r",
      "\u001b[K     |████████████████████████████████| 61kB 8.0MB/s \n",
      "\u001b[?25hRequirement already satisfied: pandas>=0.19 in /usr/local/lib/python3.7/dist-packages (from PyPortfolioOpt) (1.1.5)\n",
      "Collecting cvxpy<2.0.0,>=1.1.10\n",
      "\u001b[?25l  Downloading https://files.pythonhosted.org/packages/f0/95/e7eb169a7802fe0c5c50dd7f29c2e9d357b5f29c70adc3f5ca2ab684a04b/cvxpy-1.1.13.tar.gz (1.3MB)\n",
      "\u001b[K     |████████████████████████████████| 1.3MB 24.0MB/s \n",
      "\u001b[?25h  Installing build dependencies ... \u001b[?25l\u001b[?25hdone\n",
      "  Getting requirements to build wheel ... \u001b[?25l\u001b[?25hdone\n",
      "    Preparing wheel metadata ... \u001b[?25l\u001b[?25hdone\n",
      "Requirement already satisfied: scipy<2.0,>=1.3 in /usr/local/lib/python3.7/dist-packages (from PyPortfolioOpt) (1.4.1)\n",
      "Requirement already satisfied: numpy<2.0,>=1.12 in /usr/local/lib/python3.7/dist-packages (from PyPortfolioOpt) (1.19.5)\n",
      "Requirement already satisfied: pytz>=2017.2 in /usr/local/lib/python3.7/dist-packages (from pandas>=0.19->PyPortfolioOpt) (2018.9)\n",
      "Requirement already satisfied: python-dateutil>=2.7.3 in /usr/local/lib/python3.7/dist-packages (from pandas>=0.19->PyPortfolioOpt) (2.8.1)\n",
      "Requirement already satisfied: osqp>=0.4.1 in /usr/local/lib/python3.7/dist-packages (from cvxpy<2.0.0,>=1.1.10->PyPortfolioOpt) (0.6.2.post0)\n",
      "Requirement already satisfied: ecos>=2 in /usr/local/lib/python3.7/dist-packages (from cvxpy<2.0.0,>=1.1.10->PyPortfolioOpt) (2.0.7.post1)\n",
      "Requirement already satisfied: scs>=1.1.6 in /usr/local/lib/python3.7/dist-packages (from cvxpy<2.0.0,>=1.1.10->PyPortfolioOpt) (2.1.4)\n",
      "Requirement already satisfied: six>=1.5 in /usr/local/lib/python3.7/dist-packages (from python-dateutil>=2.7.3->pandas>=0.19->PyPortfolioOpt) (1.15.0)\n",
      "Requirement already satisfied: qdldl in /usr/local/lib/python3.7/dist-packages (from osqp>=0.4.1->cvxpy<2.0.0,>=1.1.10->PyPortfolioOpt) (0.1.5.post0)\n",
      "Building wheels for collected packages: cvxpy\n",
      "  Building wheel for cvxpy (PEP 517) ... \u001b[?25l\u001b[?25hdone\n",
      "  Created wheel for cvxpy: filename=cvxpy-1.1.13-cp37-cp37m-linux_x86_64.whl size=2736198 sha256=f3522befe33a10529b05f1082c9aab1f5242554f83768c63e44fbfc2acfb63de\n",
      "  Stored in directory: /root/.cache/pip/wheels/f9/78/00/f29636789ee83434953b5442f16ec3f9834a68e7fd0393c220\n",
      "Successfully built cvxpy\n",
      "Installing collected packages: cvxpy, PyPortfolioOpt\n",
      "  Found existing installation: cvxpy 1.0.31\n",
      "    Uninstalling cvxpy-1.0.31:\n",
      "      Successfully uninstalled cvxpy-1.0.31\n",
      "Successfully installed PyPortfolioOpt-1.4.2 cvxpy-1.1.13\n"
     ]
    }
   ],
   "source": [
    "pip install PyPortfolioOpt"
   ]
  },
  {
   "cell_type": "code",
   "execution_count": 18,
   "metadata": {
    "id": "xNrmJqU67l3X"
   },
   "outputs": [],
   "source": [
    "from pypfopt.efficient_frontier import EfficientFrontier\n",
    "from pypfopt import risk_models\n",
    "from pypfopt import expected_returns"
   ]
  },
  {
   "cell_type": "code",
   "execution_count": 19,
   "metadata": {
    "colab": {
     "base_uri": "https://localhost:8080/"
    },
    "id": "yd7_1il875TB",
    "outputId": "25799382-c7bc-45b8-9f61-c57e469badad"
   },
   "outputs": [
    {
     "name": "stdout",
     "output_type": "stream",
     "text": [
      "OrderedDict([(('Adj Close', 'HDFCBANK.NS'), 0.51634), (('Adj Close', 'INFY.NS'), 0.04175), (('Adj Close', 'RELIANCE.NS'), 0.03547), (('Adj Close', 'TCS.NS'), 0.40644)])\n",
      "Expected annual return: 20.1%\n",
      "Annual volatility: 19.1%\n",
      "Sharpe Ratio: 0.95\n"
     ]
    },
    {
     "data": {
      "text/plain": [
       "(0.20123383068271766, 0.1908143807443328, 0.9497912577435563)"
      ]
     },
     "execution_count": 19,
     "metadata": {
      "tags": []
     },
     "output_type": "execute_result"
    }
   ],
   "source": [
    "#Portfolio Optimization using Efficient Frontier \n",
    "\n",
    "#Calculating the expected returns and sample cov matrix of equities\n",
    "exp_ret = expected_returns.mean_historical_return(df)\n",
    "s_cov = risk_models.sample_cov(df)\n",
    "\n",
    "#Optimize for maximum sharpe ratio \n",
    "ef = EfficientFrontier(exp_ret,s_cov)\n",
    "weights = ef.max_sharpe()\n",
    "cleaned_weights = ef.clean_weights()\n",
    "print(cleaned_weights)\n",
    "ef.portfolio_performance(verbose = True)"
   ]
  },
  {
   "cell_type": "code",
   "execution_count": null,
   "metadata": {
    "colab": {
     "base_uri": "https://localhost:8080/"
    },
    "id": "XpkQp1Sw9hz3",
    "outputId": "23af44c2-aa8a-4cc1-c0cc-2b412a2edf4b"
   },
   "outputs": [
    {
     "data": {
      "text/plain": [
       "1.0"
      ]
     },
     "execution_count": 90,
     "metadata": {
      "tags": []
     },
     "output_type": "execute_result"
    }
   ],
   "source": [
    "#Checking if the new weights amount to 1\n",
    "0.66856+0.06194+0.13574+0.13376"
   ]
  },
  {
   "cell_type": "code",
   "execution_count": 20,
   "metadata": {
    "id": "VtAWEsWC-ydg"
   },
   "outputs": [],
   "source": [
    "from pypfopt.discrete_allocation import DiscreteAllocation, get_latest_prices\n"
   ]
  },
  {
   "cell_type": "code",
   "execution_count": 21,
   "metadata": {
    "colab": {
     "base_uri": "https://localhost:8080/"
    },
    "id": "ILN3fpIP_vyZ",
    "outputId": "59bb1dcf-2cbd-448a-b503-f3695b5d6cc7"
   },
   "outputs": [
    {
     "name": "stdout",
     "output_type": "stream",
     "text": [
      "Enter the starting balance: 2500000\n"
     ]
    }
   ],
   "source": [
    "#Getting the starting balance\n",
    "start_balance = int(input(\"Enter the starting balance: \"))"
   ]
  },
  {
   "cell_type": "code",
   "execution_count": 22,
   "metadata": {
    "colab": {
     "base_uri": "https://localhost:8080/"
    },
    "id": "2AgBWuBa-NMV",
    "outputId": "b8a3c7ae-596e-4558-f6c3-1291798031b1"
   },
   "outputs": [
    {
     "name": "stdout",
     "output_type": "stream",
     "text": [
      "Discrete Allocation: {('Adj Close', 'HDFCBANK.NS'): 848, ('Adj Close', 'INFY.NS'): 67, ('Adj Close', 'RELIANCE.NS'): 42, ('Adj Close', 'TCS.NS'): 318}\n",
      "Remaining funds: INR164.86\n"
     ]
    }
   ],
   "source": [
    "#Generating discrete allocation of shares per equity based on funds\n",
    "\n",
    "def discrete_alloc(funds):\n",
    "  latest_prices = get_latest_prices(df)\n",
    "  weights = cleaned_weights\n",
    "  d_alloc = DiscreteAllocation(weights,latest_prices, total_portfolio_value=funds)\n",
    "\n",
    "  allocation, leftover = d_alloc.lp_portfolio()\n",
    "  print('Discrete Allocation:',allocation)\n",
    "  print('Remaining funds: INR{:.2f}'.format(leftover))\n",
    "\n",
    "discrete_alloc(start_balance)"
   ]
  }
 ],
 "metadata": {
  "colab": {
   "name": "Portfolio_Optimization.ipynb",
   "provenance": []
  },
  "kernelspec": {
   "display_name": "Python 3",
   "language": "python",
   "name": "python3"
  },
  "language_info": {
   "codemirror_mode": {
    "name": "ipython",
    "version": 3
   },
   "file_extension": ".py",
   "mimetype": "text/x-python",
   "name": "python",
   "nbconvert_exporter": "python",
   "pygments_lexer": "ipython3",
   "version": "3.7.3"
  }
 },
 "nbformat": 4,
 "nbformat_minor": 1
}
